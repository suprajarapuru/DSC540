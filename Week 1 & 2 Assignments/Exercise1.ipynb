{
 "cells": [
  {
   "cell_type": "markdown",
   "id": "cfbbafa3",
   "metadata": {},
   "source": [
    "# DSC540: Data Preparation\n",
    "Author: Supraja Rapuru\n",
    "Title: Week1&2 - Exercise 1\n",
    "Description: Create a Jupyter notebook where you create a list, iterate over the list \n",
    "    and sort your results, generate random numbers, add to the list, and then print your results."
   ]
  },
  {
   "cell_type": "code",
   "execution_count": 7,
   "id": "edeb6e09",
   "metadata": {},
   "outputs": [],
   "source": [
    "# Create a list\n",
    "list_a = [20, 44, 11, 20, 30, 123,567, 204,123,123456]"
   ]
  },
  {
   "cell_type": "code",
   "execution_count": 8,
   "id": "694aa662",
   "metadata": {},
   "outputs": [
    {
     "name": "stdout",
     "output_type": "stream",
     "text": [
      "20\n",
      "44\n",
      "11\n",
      "20\n",
      "30\n",
      "123\n",
      "567\n",
      "204\n",
      "123\n",
      "123456\n"
     ]
    }
   ],
   "source": [
    "# Iterate over the list\n",
    "for i in list_a:\n",
    "    print(i)"
   ]
  },
  {
   "cell_type": "code",
   "execution_count": 9,
   "id": "0ecdb79b",
   "metadata": {},
   "outputs": [
    {
     "data": {
      "text/plain": [
       "[11, 20, 20, 30, 44, 123, 123, 204, 567, 123456]"
      ]
     },
     "execution_count": 9,
     "metadata": {},
     "output_type": "execute_result"
    }
   ],
   "source": [
    "# Sort results\n",
    "list_a.sort()\n",
    "list_a"
   ]
  },
  {
   "cell_type": "code",
   "execution_count": 10,
   "id": "995be90e",
   "metadata": {},
   "outputs": [
    {
     "data": {
      "text/plain": [
       "[55, 90, 24, 23, 7, 87, 71, 28, 61, 47, 38, 12, 29, 90, 16, 18, 4, 70, 4, 53]"
      ]
     },
     "execution_count": 10,
     "metadata": {},
     "output_type": "execute_result"
    }
   ],
   "source": [
    "# Generate random numbers\n",
    "import random\n",
    "list_b = [random.randint(0, 100) for x in range (0, 20)]\n",
    "list_b"
   ]
  },
  {
   "cell_type": "code",
   "execution_count": 11,
   "id": "9b3aa7e0",
   "metadata": {},
   "outputs": [],
   "source": [
    "# Add to the list\n",
    "list_c = [12, 34, 56,78]\n",
    "list_b.extend(list_c)"
   ]
  },
  {
   "cell_type": "code",
   "execution_count": 12,
   "id": "90ee2290",
   "metadata": {},
   "outputs": [
    {
     "name": "stdout",
     "output_type": "stream",
     "text": [
      "[55, 90, 24, 23, 7, 87, 71, 28, 61, 47, 38, 12, 29, 90, 16, 18, 4, 70, 4, 53, 12, 34, 56, 78]\n"
     ]
    }
   ],
   "source": [
    "# Print results\n",
    "print(list_b)"
   ]
  },
  {
   "cell_type": "code",
   "execution_count": null,
   "id": "a27d508a",
   "metadata": {},
   "outputs": [],
   "source": []
  }
 ],
 "metadata": {
  "kernelspec": {
   "display_name": "Python 3",
   "language": "python",
   "name": "python3"
  },
  "language_info": {
   "codemirror_mode": {
    "name": "ipython",
    "version": 3
   },
   "file_extension": ".py",
   "mimetype": "text/x-python",
   "name": "python",
   "nbconvert_exporter": "python",
   "pygments_lexer": "ipython3",
   "version": "3.8.8"
  }
 },
 "nbformat": 4,
 "nbformat_minor": 5
}
