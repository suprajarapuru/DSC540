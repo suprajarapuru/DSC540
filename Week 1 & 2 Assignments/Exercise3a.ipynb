{
 "cells": [
  {
   "cell_type": "markdown",
   "id": "7c3fa621",
   "metadata": {},
   "source": [
    "# DSC540: Data Preparation\n",
    "#Author: Supraja Rapuru \n",
    "#Title: Week1&2 - Exercise 3a"
   ]
  },
  {
   "cell_type": "code",
   "execution_count": 26,
   "id": "bd2c5270",
   "metadata": {},
   "outputs": [],
   "source": [
    "import random\n",
    "import statistics"
   ]
  },
  {
   "cell_type": "code",
   "execution_count": 27,
   "id": "397f0832",
   "metadata": {},
   "outputs": [
    {
     "name": "stdout",
     "output_type": "stream",
     "text": [
      "[23, 33, 33, 84, 19, 81, 85, 83, 91, 62, 32, 17, 58, 30, 2, 4, 13, 41, 40, 49, 20, 41, 34, 91, 63, 72, 68, 81, 92, 51, 52, 85, 58, 37, 43, 64, 57, 99, 53, 63, 13, 81, 44, 8, 92, 96, 15, 45, 5, 45, 84, 73, 2, 52, 65, 82, 23, 27, 76, 12, 17, 99, 44, 44, 0, 32, 40, 18, 45, 35, 9, 71, 68, 26, 51, 53, 15, 0, 67, 86, 61, 83, 50, 15, 87, 91, 92, 23, 50, 80, 38, 85, 10, 82, 36, 97, 21, 10, 99, 61]\n"
     ]
    }
   ],
   "source": [
    "# Create a list of 100 random numbers\n",
    "list_a = [random.randint(0, 100) for x in range (0, 100)]\n",
    "print(list_a)"
   ]
  },
  {
   "cell_type": "code",
   "execution_count": 28,
   "id": "ce6a53e3",
   "metadata": {},
   "outputs": [
    {
     "name": "stdout",
     "output_type": "stream",
     "text": [
      "[33, 33, 84, 81, 30, 63, 72, 81, 51, 57, 99, 63, 81, 96, 15, 45, 45, 84, 27, 12, 99, 0, 18, 45, 9, 51, 15, 0, 15, 87, 36, 21, 99]\n"
     ]
    }
   ],
   "source": [
    "# Create a new list from this random list, with numbers that are divisile by 3\n",
    "list_b = [x for x in list_a if x % 3 == 0]\n",
    "print(list_b)"
   ]
  },
  {
   "cell_type": "code",
   "execution_count": 29,
   "id": "08ba1773",
   "metadata": {},
   "outputs": [
    {
     "name": "stdout",
     "output_type": "stream",
     "text": [
      "67\n"
     ]
    }
   ],
   "source": [
    "# Calculate length of two lists and store the difference in a variable\n",
    "var1 = (len(list_a) - len(list_b))\n",
    "print(var1)"
   ]
  },
  {
   "cell_type": "code",
   "execution_count": 30,
   "id": "6f7bcd81",
   "metadata": {},
   "outputs": [
    {
     "name": "stdout",
     "output_type": "stream",
     "text": [
      "[63, 67, 63]\n"
     ]
    }
   ],
   "source": [
    "# Using a loop, repeat previous steps and find the difference 3x\n",
    "diff_vars = []\n",
    "count = 0\n",
    "while (count < 3):\n",
    "    list_a = [random.randint(0, 100) for x in range (0, 100)]\n",
    "    list_b = [x for x in list_a if x % 3 == 0]\n",
    "    input = (len(list_a) - len(list_b))\n",
    "    diff_vars.append(input)\n",
    "    count = count + 1\n",
    "print(diff_vars)"
   ]
  },
  {
   "cell_type": "code",
   "execution_count": 31,
   "id": "b4b4b44c",
   "metadata": {},
   "outputs": [
    {
     "name": "stdout",
     "output_type": "stream",
     "text": [
      "64.33333333333333\n"
     ]
    }
   ],
   "source": [
    "# Find the mean of three variables\n",
    "avg = statistics.mean(diff_vars)\n",
    "print (avg)"
   ]
  },
  {
   "cell_type": "code",
   "execution_count": null,
   "id": "b0f69142",
   "metadata": {},
   "outputs": [],
   "source": []
  }
 ],
 "metadata": {
  "kernelspec": {
   "display_name": "Python 3",
   "language": "python",
   "name": "python3"
  },
  "language_info": {
   "codemirror_mode": {
    "name": "ipython",
    "version": 3
   },
   "file_extension": ".py",
   "mimetype": "text/x-python",
   "name": "python",
   "nbconvert_exporter": "python",
   "pygments_lexer": "ipython3",
   "version": "3.8.8"
  }
 },
 "nbformat": 4,
 "nbformat_minor": 5
}
