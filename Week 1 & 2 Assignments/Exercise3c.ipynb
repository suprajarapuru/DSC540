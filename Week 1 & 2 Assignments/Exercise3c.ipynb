{
 "cells": [
  {
   "cell_type": "markdown",
   "id": "cc68eb88",
   "metadata": {},
   "source": [
    "# DSC540: Data Preparation\n",
    "#Author: Supraja Rapuru \n",
    "#Title: Week1&2 - Exercise 3c"
   ]
  },
  {
   "cell_type": "code",
   "execution_count": 1,
   "id": "80e95d30",
   "metadata": {},
   "outputs": [],
   "source": [
    "import itertools\n",
    "from itertools import(dropwhile)"
   ]
  },
  {
   "cell_type": "code",
   "execution_count": 2,
   "id": "fe544a6f",
   "metadata": {},
   "outputs": [
    {
     "data": {
      "text/plain": [
       "[(0, 1, 2), (0, 2, 1), (1, 0, 2), (1, 2, 0), (2, 0, 1), (2, 1, 0)]"
      ]
     },
     "execution_count": 2,
     "metadata": {},
     "output_type": "execute_result"
    }
   ],
   "source": [
    "# Step 2\n",
    "combos = list(itertools.permutations([0, 1, 2]))\n",
    "combos"
   ]
  },
  {
   "cell_type": "code",
   "execution_count": 3,
   "id": "10cf26f3",
   "metadata": {},
   "outputs": [
    {
     "name": "stdout",
     "output_type": "stream",
     "text": [
      "(0, 1, 2)\n",
      "(0, 2, 1)\n",
      "(1, 0, 2)\n",
      "(1, 2, 0)\n",
      "(2, 0, 1)\n",
      "(2, 1, 0)\n"
     ]
    }
   ],
   "source": [
    "# Step 3\n",
    "for i, x in enumerate(combos):\n",
    "    assert type(x) == tuple\n",
    "    print(x)"
   ]
  },
  {
   "cell_type": "code",
   "execution_count": 4,
   "id": "67908fb9",
   "metadata": {},
   "outputs": [
    {
     "data": {
      "text/plain": [
       "True"
      ]
     },
     "execution_count": 4,
     "metadata": {},
     "output_type": "execute_result"
    }
   ],
   "source": [
    "all(isinstance(x, tuple) for x in combos)"
   ]
  },
  {
   "cell_type": "code",
   "execution_count": 5,
   "id": "4be25758",
   "metadata": {},
   "outputs": [
    {
     "name": "stdout",
     "output_type": "stream",
     "text": [
      "[1, 2]\n",
      "[2, 1]\n",
      "[1, 0, 2]\n",
      "[1, 2, 0]\n",
      "[2, 0, 1]\n",
      "[2, 1, 0]\n"
     ]
    }
   ],
   "source": [
    "# Step 4\n",
    "for i, x in enumerate(combos):\n",
    "    result = list(dropwhile(lambda x: x == 0, x))\n",
    "    print(result)"
   ]
  },
  {
   "cell_type": "code",
   "execution_count": 6,
   "id": "215c5a2f",
   "metadata": {},
   "outputs": [
    {
     "data": {
      "text/plain": [
       "list"
      ]
     },
     "execution_count": 6,
     "metadata": {},
     "output_type": "execute_result"
    }
   ],
   "source": [
    "# Step 5\n",
    "type(result)"
   ]
  },
  {
   "cell_type": "code",
   "execution_count": 7,
   "id": "33c066f7",
   "metadata": {},
   "outputs": [
    {
     "name": "stdout",
     "output_type": "stream",
     "text": [
      "12\n",
      "21\n",
      "102\n",
      "120\n",
      "201\n",
      "210\n"
     ]
    }
   ],
   "source": [
    "# Step 6\n",
    "combos = list(itertools.permutations([0, 1, 2]))\n",
    "stack = []\n",
    "\n",
    "def convert_nums(s):\n",
    "    for i, x in enumerate(stack):\n",
    "        strings = [str(integer) for integer in x]\n",
    "        string_of_nums = \"\".join(strings)\n",
    "        whole_nums = int(string_of_nums)\n",
    "        stack.pop()\n",
    "        return whole_nums        \n",
    "       \n",
    "for i, x in enumerate(combos):\n",
    "    result = list(dropwhile(lambda x: x == 0, x))\n",
    "    stack.append(result)\n",
    "    print(convert_nums(stack))"
   ]
  },
  {
   "cell_type": "code",
   "execution_count": null,
   "id": "b573c3b9",
   "metadata": {},
   "outputs": [],
   "source": []
  }
 ],
 "metadata": {
  "kernelspec": {
   "display_name": "Python 3",
   "language": "python",
   "name": "python3"
  },
  "language_info": {
   "codemirror_mode": {
    "name": "ipython",
    "version": 3
   },
   "file_extension": ".py",
   "mimetype": "text/x-python",
   "name": "python",
   "nbconvert_exporter": "python",
   "pygments_lexer": "ipython3",
   "version": "3.8.8"
  }
 },
 "nbformat": 4,
 "nbformat_minor": 5
}
